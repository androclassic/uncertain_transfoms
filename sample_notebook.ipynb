{
 "cells": [
  {
   "cell_type": "code",
   "execution_count": null,
   "id": "a34c70e9",
   "metadata": {},
   "outputs": [],
   "source": [
    "#!pip3 install cartesian_viz"
   ]
  },
  {
   "cell_type": "code",
   "execution_count": null,
   "id": "2922335b",
   "metadata": {},
   "outputs": [],
   "source": [
    "from IPython.core.display import display, HTML\n",
    "\n",
    "#%matplotlib inline\n",
    "%reload_ext autoreload\n",
    "%autoreload 2\n",
    "from IPython.core.display import display, HTML\n",
    "display(HTML(\"<style>.container { width:100% !important; }</style>\"))\n"
   ]
  },
  {
   "cell_type": "code",
   "execution_count": null,
   "id": "34943a40",
   "metadata": {},
   "outputs": [],
   "source": [
    "import os\n",
    "import sys\n",
    "import numpy as np\n",
    "from scipy.spatial.transform import Rotation as R\n",
    "import numpy as np\n",
    "\n",
    "import gtsam\n",
    "from gtsam import Point3, Pose3, Rot3\n",
    "\n",
    "from cartesian_viz.engine import BaseVisualiser\n",
    "from cartesian_viz.draw_descriptors import PointDesc, Pose2DDrawDesc, UncertainPose2DDrawDesc\n"
   ]
  },
  {
   "cell_type": "code",
   "execution_count": null,
   "id": "7c684465",
   "metadata": {},
   "outputs": [],
   "source": [
    "SRC_DIR = os.path.abspath(f'./src')\n",
    "sys.path.append(SRC_DIR)\n",
    "SRC_DIR"
   ]
  },
  {
   "cell_type": "code",
   "execution_count": null,
   "id": "a69abe19",
   "metadata": {},
   "outputs": [],
   "source": [
    "from transform import Transform\n",
    "from uncertain_transform import UncertainTransform"
   ]
  },
  {
   "cell_type": "markdown",
   "id": "1729ca7b",
   "metadata": {},
   "source": [
    "### Utility functions for visualization"
   ]
  },
  {
   "cell_type": "code",
   "execution_count": null,
   "id": "22dc83ef",
   "metadata": {},
   "outputs": [],
   "source": [
    "import angles\n",
    "\n",
    "def get_world_yaw_from_transform(transform):\n",
    "    dz = transform.rotation_matrix[:,2]\n",
    "    angle = -np.rad2deg(np.arctan2(dz[0], dz[2]))\n",
    "    return angles.normalize(angle, 0, 360)\n",
    "    \n",
    "    \n",
    "def get_wedge_width_from_cov(covariance_matrix):\n",
    "    line_width = np.degrees(np.sqrt(covariance_matrix[1,1]))\n",
    "    line_width = 1 if line_width < 1 or np.isnan(line_width) else line_width\n",
    "    return line_width\n",
    "\n",
    "\n",
    "def get_viz_data_from_transform(uncertain_transform, color, show_errors, circle_radius, transform_text=None,ellipse_color=None):\n",
    "    x, _, z = uncertain_transform.position\n",
    "    heading = get_world_yaw_from_transform(uncertain_transform)\n",
    "    line_width, e_angle, e_x, e_z = 20, 0, 0.01, 0.01\n",
    "    if show_errors:\n",
    "            e_angle, e_x, e_z = uncertain_transform.compute_ellipse_from_covariance()\n",
    "            e_angle = np.deg2rad(e_angle)\n",
    "            line_width = get_wedge_width_from_cov(uncertain_transform.covariance_matrix)\n",
    "\n",
    "    return  {\n",
    "            \"latitude\":z, \"longitude\":x, \"facing\":heading,\n",
    "            \"facing_error\":line_width, \"ellipse_angle\":e_angle, \"size_x\":e_x, \"size_y\":e_z,\n",
    "            \"color\":color,\n",
    "            \"point_radius\":circle_radius,\n",
    "            \"ellipse_color\": ellipse_color if ellipse_color else color,\n",
    "            }\n",
    "\n",
    "\n",
    "def get_figure():\n",
    "    bviz = BaseVisualiser(relative_frame=True)\n",
    "    bviz.add_object_desc(PointDesc(radius=0.2, alpha=0.3))\n",
    "    bviz.add_object_desc(Pose2DDrawDesc())\n",
    "    bviz.add_object_desc(UncertainPose2DDrawDesc(radius=0.1))\n",
    "    return bviz\n",
    "\n",
    "def show_transform(transform, base_viz, transform_text=None, circle_color = None, circle_radius = 0.5, ellipse_color=None):\n",
    "    \"\"\"Draws the object represented by `transform` on figure p at a given latlon (if provided), or at a relative position.\"\"\"\n",
    "\n",
    "    if circle_color is None:\n",
    "        circle_color = ellipse_color if ellipse_color else 'red' \n",
    "        \n",
    "    has_err =  hasattr(transform, \"covariance_matrix\")\n",
    "    entry = get_viz_data_from_transform(transform, circle_color, has_err, circle_radius, transform_text=transform_text, ellipse_color=ellipse_color )\n",
    "    if not has_err:\n",
    "        base_viz.add_entry_object(Pose2DDrawDesc().get_name(), entry)\n",
    "    else:\n",
    "        base_viz.add_entry_object(UncertainPose2DDrawDesc().get_name(), entry)\n",
    "\n",
    "def show_ms_transform(uncertain_transform, base_viz, transform_text=None, circle_color = None, circle_radius = 0.5, ellipse_color=None, draws=500):\n",
    "    samples = uncertain_transform.get_samples(nb_samples=draws)\n",
    "\n",
    "    c = ellipse_color if ellipse_color else (circle_color if circle_color else 'red')\n",
    "    for s in samples:\n",
    "        entry = get_viz_data_from_transform(s, c, False, circle_radius/2)\n",
    "        base_viz.add_entry_object(PointDesc().get_name(), entry)\n",
    "\n",
    "    show_transform(uncertain_transform, base_viz, transform_text=transform_text, circle_color=circle_color, circle_radius=circle_radius, ellipse_color=ellipse_color)\n",
    "\n",
    "\n",
    "\n",
    "def create_measurment_from_depth_prediction(position, error_rate_per_mt=0.01):\n",
    "    \"\"\"\n",
    "    Computes a uncertain transform from the predocton positions\n",
    "    :param position: detection 3D position\n",
    "    :param error_per_m: the rate of error increse per meter\n",
    "    \"\"\"\n",
    "    distance = np.linalg.norm(position)\n",
    "    pdir = position/distance\n",
    "    \n",
    "    m = np.arccos(pdir.dot(np.array([0,0,1])))\n",
    "    orientation = R.from_rotvec(np.array([0,-m,0])).as_quat()    \n",
    "    depth_error = 0.1 + distance * error_rate_per_mt\n",
    "    other_axis = 1e-1\n",
    "    error_std = np.array((other_axis,other_axis,  depth_error))\n",
    "    orientaion_error = np.radians(np.ones(3)*0.1) #unknown orientation\n",
    "\n",
    "    # construct covariance matrix\n",
    "    covariance_matrix = np.identity(6)\n",
    "    covariance_matrix[:3,:3]=covariance_matrix[:3,:3] * np.power(orientaion_error.T,2)\n",
    "    covariance_matrix[3:,3:]=covariance_matrix[3:,3:] * np.power(error_std.T,2)\n",
    "    return UncertainTransform(position, orientation, covariance_matrix=covariance_matrix)\n",
    "\n"
   ]
  },
  {
   "cell_type": "markdown",
   "id": "50ac8803",
   "metadata": {},
   "source": [
    "## Merge measurements"
   ]
  },
  {
   "cell_type": "code",
   "execution_count": null,
   "id": "1452431f",
   "metadata": {},
   "outputs": [],
   "source": [
    "\n",
    "trip_figure = get_figure()\n",
    "\n",
    "transform = Transform.fromEuler((1,0,1),(33,0,0))\n",
    "\n",
    "m1 = UncertainTransform.fromEuler((0.1,0,0),(104,0,0),(0.5,0.01,1.75),(0,11.5,0)).apply_transform(transform)\n",
    "m2 = UncertainTransform.fromEuler((0.1,0,0),(144,0,0),(0.8,0.01,1.75),(0,5,0)).apply_transform(transform)\n",
    "m3 = UncertainTransform.fromEuler((0.1,0,0),(33,0,0),(0.6,0.1,1.3),(0,11,0)).apply_transform(transform)\n",
    "\n",
    "m4 = UncertainTransform.merge_measurments([m1,m2])\n",
    "\n",
    "show_transform(m1, trip_figure, circle_radius=0.2, ellipse_color=\"green\", circle_color=\"green\")\n",
    "show_transform(m2, trip_figure, circle_radius=0.2, ellipse_color=\"yellow\", circle_color=\"yellow\")\n",
    "#show_transform(m3, trip_figure, circle_radius=0.2, ellipse_color=\"blue\", circle_color=\"blue\")\n",
    "show_transform(m4, trip_figure, circle_radius=0.2, ellipse_color=\"red\")\n",
    "trip_figure.display()\n"
   ]
  },
  {
   "cell_type": "markdown",
   "id": "a62d3193",
   "metadata": {},
   "source": [
    "## Pose error composition"
   ]
  },
  {
   "cell_type": "code",
   "execution_count": null,
   "id": "f418d1df",
   "metadata": {},
   "outputs": [],
   "source": [
    "m1 = create_measurment_from_depth_prediction([5,0,5], error_rate_per_mt=0.01)\n",
    "\n",
    "\n",
    "trip_figure = get_figure()\n",
    "show_ms_transform(m1, trip_figure, circle_radius=0.01, draws=40)\n",
    "trip_figure.display()\n"
   ]
  },
  {
   "cell_type": "code",
   "execution_count": null,
   "id": "7e74d279",
   "metadata": {},
   "outputs": [],
   "source": [
    "trip_figure = get_figure()\n",
    "pos = (20,0,10)\n",
    "rot = (5,0,0)\n",
    "m2 = UncertainTransform.fromEuler(pos,rot,(0.2,0.01,.01),(0,1,0))\n",
    "show_ms_transform(m2,  trip_figure, circle_radius=0.1,ellipse_color=\"blue\",draws=5)\n",
    "\n",
    "m3 = m1.apply_transform(m2)\n",
    "show_ms_transform(m3,  trip_figure, circle_radius=0.2,ellipse_color=\"green\", draws=300)\n",
    "\n",
    "\n",
    "m2z = UncertainTransform.fromEuler(pos,rot,(0,0,0),(0,0.001,0))\n",
    "m3z = m1.apply_transform(m2z)\n",
    "show_ms_transform(m3z, trip_figure, circle_radius=0.1, draws=10)\n",
    "\n",
    "\n",
    "trip_figure.display()\n",
    "\n"
   ]
  },
  {
   "cell_type": "markdown",
   "id": "98b781f6",
   "metadata": {},
   "source": [
    "### Show effect of rotation error from camera to position of the object"
   ]
  },
  {
   "cell_type": "code",
   "execution_count": null,
   "id": "a1740973",
   "metadata": {},
   "outputs": [],
   "source": [
    "c2w_p = np.array([4,0,0])\n",
    "c2w_o = np.array([-0,0,0])\n",
    "obj2c = Transform.fromEuler([20,0,20],[62,0,0])\n",
    "\n",
    "p_err_std = np.array([.5,0,.5])\n",
    "o_err_std = np.array([10,0,0])\n",
    "\n",
    "\n",
    "trip_figure = get_figure()\n",
    "\n",
    "draws = 1000\n",
    "c2w = Transform.fromEuler(c2w_p,c2w_o)\n",
    "\n",
    "c2w_measured = UncertainTransform.fromEuler(c2w_p,c2w_o, p_err_std, o_err_std[[1,0,2]])\n",
    "show_ms_transform(c2w_measured, trip_figure, circle_radius=0.4, ellipse_color=\"red\", circle_color=\"blue\")\n",
    "\n",
    "obj2w_measured = UncertainTransform(obj2c.position,obj2c.rotation_quat, np.ones((6,6)) * 1e-4).apply_transform(c2w_measured)#.apply_transform(c2w_measured).apply_transform(c2w_measured))\n",
    "print(c2w_measured)\n",
    "show_ms_transform(obj2w_measured, trip_figure, circle_radius=0.4, ellipse_color=\"green\", circle_color=\"red\")\n",
    "\n",
    "trip_figure.display()\n"
   ]
  },
  {
   "cell_type": "markdown",
   "id": "b86d3633",
   "metadata": {},
   "source": [
    "## Relative pose simple transform"
   ]
  },
  {
   "cell_type": "code",
   "execution_count": null,
   "id": "13a3a2d7",
   "metadata": {},
   "outputs": [],
   "source": [
    "T_aw = Transform.fromEuler((1.4,0,3),(145,0,0))\n",
    "T_bw = Transform.fromEuler((1,4,0),(-35,0,0))\n",
    "T_ab = T_aw.between(T_bw)\n",
    "\n",
    "\n",
    "\n",
    "\n",
    "trip_figure = get_figure()\n",
    "show_transform(T_aw, trip_figure, circle_radius=0.4, ellipse_color=\"green\", circle_color=\"green\")\n",
    "show_transform(T_bw, trip_figure, circle_radius=0.4, ellipse_color=\"yellow\", circle_color=\"yellow\")\n",
    "show_transform(T_ab.apply_transform(T_bw), trip_figure, circle_radius=0.2, ellipse_color=\"red\", circle_color=\"red\")\n",
    "trip_figure.display()\n",
    "\n",
    "\n",
    "\n",
    "\n"
   ]
  },
  {
   "cell_type": "markdown",
   "id": "86ae1379",
   "metadata": {},
   "source": [
    "## Relative pose measured transform"
   ]
  },
  {
   "cell_type": "code",
   "execution_count": null,
   "id": "92d45bc4",
   "metadata": {},
   "outputs": [],
   "source": [
    "T_aw = UncertainTransform.fromEuler((1,4,0),(-15,0,0), (4,0,0.1),(0,3,0))\n",
    "T_bw = UncertainTransform.fromEuler((1.4,0,3),(75,0,0), (0.5,0,0.5),(0,3,0))\n",
    "T_ab = T_bw.between(T_aw)\n",
    "\n",
    "\n",
    "\n",
    "\n",
    "trip_figure = get_figure()\n",
    "show_ms_transform(T_aw, trip_figure, circle_radius=0.1, ellipse_color=\"green\", circle_color=\"green\")\n",
    "show_ms_transform(T_bw, trip_figure, circle_radius=0.1, ellipse_color=\"yellow\", circle_color=\"yellow\")\n",
    "show_transform(T_ab, trip_figure, circle_radius=0.1, ellipse_color=\"red\", circle_color=\"red\")\n",
    "trip_figure.display()\n",
    "\n",
    "\n",
    "\n"
   ]
  },
  {
   "cell_type": "code",
   "execution_count": null,
   "id": "2beb1e2e",
   "metadata": {},
   "outputs": [],
   "source": []
  },
  {
   "cell_type": "code",
   "execution_count": null,
   "id": "7958bb02",
   "metadata": {},
   "outputs": [],
   "source": []
  }
 ],
 "metadata": {
  "kernelspec": {
   "display_name": "Python 3",
   "language": "python",
   "name": "python3"
  },
  "language_info": {
   "codemirror_mode": {
    "name": "ipython",
    "version": 3
   },
   "file_extension": ".py",
   "mimetype": "text/x-python",
   "name": "python",
   "nbconvert_exporter": "python",
   "pygments_lexer": "ipython3",
   "version": "3.9.5"
  }
 },
 "nbformat": 4,
 "nbformat_minor": 5
}
